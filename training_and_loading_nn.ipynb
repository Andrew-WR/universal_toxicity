{
  "nbformat": 4,
  "nbformat_minor": 0,
  "metadata": {
    "colab": {
      "provenance": [],
      "gpuType": "T4"
    },
    "kernelspec": {
      "name": "python3",
      "display_name": "Python 3"
    },
    "language_info": {
      "name": "python"
    },
    "accelerator": "GPU"
  },
  "cells": [
    {
      "cell_type": "code",
      "execution_count": 8,
      "metadata": {
        "colab": {
          "base_uri": "https://localhost:8080/",
          "height": 680
        },
        "id": "KKXF3XjgyFlU",
        "outputId": "cc9a2651-f202-42cf-cea3-10b9011e4187"
      },
      "outputs": [
        {
          "output_type": "stream",
          "name": "stdout",
          "text": [
            "Device: cuda\n",
            "Data shape: (155, 32)\n",
            "Epoch 0, Loss 5.6983e+01, kept 32 features\n",
            "Epoch 50, Loss 2.1620e-01, kept 32 features\n",
            "Epoch 100, Loss 2.1185e-01, kept 32 features\n",
            "Epoch 150, Loss 2.1213e-01, kept 32 features\n",
            "Epoch 200, Loss 2.1533e-01, kept 32 features\n",
            "Epoch 250, Loss 2.1580e-01, kept 32 features\n",
            "Epoch 287, Loss 2.1532e-01, kept 32 features\n",
            "Early stopping at epoch 287\n",
            "Training done in 23.8s, best loss 2.1141e-01\n",
            "Final MSE: 3.9774e-02, R2: 0.2192\n"
          ]
        },
        {
          "output_type": "display_data",
          "data": {
            "text/plain": [
              "<Figure size 640x480 with 1 Axes>"
            ],
            "image/png": "[encoded data removed]"
          },
          "metadata": {}
        }
      ],
      "source": [
        "import torch\n",
        "import torch.nn as nn\n",
        "import torch.optim as optim\n",
        "from torch.utils.data import DataLoader, TensorDataset\n",
        "import numpy as np\n",
        "import matplotlib.pyplot as plt\n",
        "from sklearn.metrics import r2_score\n",
        "from sklearn.model_selection import KFold\n",
        "from tqdm import tqdm\n",
        "import time\n",
        "from sklearn.decomposition import PCA\n",
        "\n",
        "class SAEApproximatorPyTorch(nn.Module):\n",
        "    \"\"\"\n",
        "    Linear (or optional 1-layer MLP) approximation from B -> A with elastic-net.\n",
        "    Automatically filters out low-variance features by rebuilding the first layer.\n",
        "    \"\"\"\n",
        "    def __init__(self, n_in, n_out, hidden_dim=2, device='cuda'):\n",
        "        super().__init__()\n",
        "        self.device = device\n",
        "        self.hidden_dim = hidden_dim\n",
        "        self.n_out = n_out\n",
        "        # initial layer sizes; will be rebuilt after filtering\n",
        "        self.initial_in = n_in\n",
        "        self._build_model(n_in)\n",
        "        # normalization stats\n",
        "        self.register_buffer('B_mean', torch.zeros(n_in))\n",
        "        self.register_buffer('B_std', torch.ones(n_in))\n",
        "        self.register_buffer('A_mean', torch.zeros(n_out))\n",
        "        self.register_buffer('A_std', torch.ones(n_out))\n",
        "        self.normalize = False\n",
        "\n",
        "    def _build_model(self, in_features):\n",
        "        dims = [in_features, 1024, 512, self.n_out]\n",
        "        layers = []\n",
        "        for i in range(len(dims)-2):\n",
        "            layers.append(nn.Linear(dims[i], dims[i+1]))\n",
        "            layers.append(nn.GELU())\n",
        "        layers.append(nn.Linear(dims[-2], dims[-1]))\n",
        "        self.model = nn.Sequential(*layers).to(self.device)\n",
        "\n",
        "\n",
        "    def forward(self, B):\n",
        "        if self.normalize:\n",
        "            B = (B - self.B_mean[:B.size(1)]) / (self.B_std[:B.size(1)] + 1e-8)\n",
        "            A_pred = self.model(B)\n",
        "            return A_pred * self.A_std + self.A_mean\n",
        "        return self.model(B)\n",
        "\n",
        "    def elastic_net_loss(self, A_pred, A_true, alpha, l1_ratio):\n",
        "        mse = nn.functional.mse_loss(A_pred, A_true)\n",
        "        l1 = sum(p.abs().sum() for p in self.model.parameters())\n",
        "        l2 = sum((p**2).sum() for p in self.model.parameters())\n",
        "        return mse + alpha * (l1_ratio * l1 + (1 - l1_ratio) * l2)\n",
        "\n",
        "    def fit(self, A, B, alpha=0.01, l1_ratio=0.5, lr=1e-4,\n",
        "            epochs=2000, batch_size=32, normalize=True,\n",
        "            verbose=True, patience=150, var_thresh=1e-6):\n",
        "        A = torch.as_tensor(A, dtype=torch.float32, device=self.device)\n",
        "        B = torch.as_tensor(B, dtype=torch.float32, device=self.device)\n",
        "\n",
        "        # filter low-variance features\n",
        "        B_var = B.var(dim=0)\n",
        "        keep_idx = (B_var > var_thresh).nonzero(as_tuple=True)[0]\n",
        "        B = B[:, keep_idx]\n",
        "        # rebuild model to match filtered input size\n",
        "        self._build_model(len(keep_idx))\n",
        "\n",
        "        if normalize:\n",
        "            self.normalize = True\n",
        "            self.B_mean = B.mean(dim=0)\n",
        "            self.B_std = B.std(dim=0)\n",
        "            self.A_mean = A.mean(dim=0)\n",
        "            self.A_std = A.std(dim=0)\n",
        "\n",
        "        loader = DataLoader(TensorDataset(B, A), batch_size=batch_size, shuffle=True)\n",
        "        optimizer = optim.Adam(self.parameters(), lr=lr)\n",
        "\n",
        "        best_loss, counter = float('inf'), 0\n",
        "        history = []\n",
        "        start = time.time()\n",
        "        for epoch in range(epochs):\n",
        "            epoch_loss = 0\n",
        "            self.train()\n",
        "            for bB, bA in loader:\n",
        "                optimizer.zero_grad()\n",
        "                pred = self.forward(bB)\n",
        "                loss = self.elastic_net_loss(pred, bA, alpha, l1_ratio)\n",
        "                loss.backward()\n",
        "                optimizer.step()\n",
        "                epoch_loss += loss.item()\n",
        "            avg_loss = epoch_loss / len(loader)\n",
        "            history.append(avg_loss)\n",
        "            if avg_loss < best_loss:\n",
        "                best_loss, counter = avg_loss, 0\n",
        "            else:\n",
        "                counter += 1\n",
        "            if verbose and (epoch % 50 == 0 or counter == patience):\n",
        "                print(f\"Epoch {epoch}, Loss {avg_loss:.4e}, kept {len(keep_idx)} features\")\n",
        "            if counter >= patience:\n",
        "                print(f\"Early stopping at epoch {epoch}\")\n",
        "                break\n",
        "        if verbose:\n",
        "            print(f\"Training done in {time.time()-start:.1f}s, best loss {best_loss:.4e}\")\n",
        "        self.keep_idx = keep_idx\n",
        "        return history\n",
        "\n",
        "    def predict(self, B):\n",
        "        B = torch.as_tensor(B, dtype=torch.float32, device=self.device)\n",
        "        B = B[:, self.keep_idx]\n",
        "        self.eval()\n",
        "        with torch.no_grad():\n",
        "            out = self.forward(B)\n",
        "        return out.cpu().numpy()\n",
        "\n",
        "    def evaluate(self, A_true, B):\n",
        "        A_true = np.asarray(A_true)\n",
        "        A_pred = self.predict(B)\n",
        "        return {'mse': np.mean((A_true - A_pred)**2), 'r2': r2_score(A_true, A_pred)}\n",
        "\n",
        "# Example usage\n",
        "if __name__ == '__main__':\n",
        "    device = 'cuda' if torch.cuda.is_available() else 'cpu'\n",
        "    print(f\"Device: {device}\")\n",
        "\n",
        "    data_A = torch.load('gemma2b_acts.pt')['gemma2b']\n",
        "    data_B = torch.load('llama1b_acts.pt')['llama1b']\n",
        "    B_list = [x.squeeze(0).mean(dim=0).cpu().numpy() for x in data_B]\n",
        "    A_list = [x.squeeze(0).mean(dim=0).cpu().numpy() for x in data_A]\n",
        "    B = np.stack(B_list)\n",
        "    A = np.stack(A_list)\n",
        "    pca_B = PCA(n_components=32)\n",
        "    B_pca = pca_B.fit_transform(B)\n",
        "    pca_A = PCA(n_components=32)\n",
        "    A_pca = pca_A.fit_transform(A)\n",
        "    print(f\"Data shape: {B.shape}\")\n",
        "\n",
        "    model = SAEApproximatorPyTorch(n_in=B.shape[1], n_out=A.shape[1], hidden_dim=64, device=device)\n",
        "    history = model.fit(A, B, alpha=0.001, l1_ratio=0.3, lr=5e-4,\n",
        "                        epochs=300, batch_size=16, var_thresh=1e-5)\n",
        "\n",
        "    res = model.evaluate(A, B)\n",
        "    print(f\"Final MSE: {res['mse']:.4e}, R2: {res['r2']:.4f}\")\n",
        "\n",
        "    plt.figure()\n",
        "    plt.semilogy(history)\n",
        "    plt.xlabel('Epoch')\n",
        "    plt.ylabel('Loss')\n",
        "    plt.title('Training Curve')\n",
        "    plt.grid(True)\n",
        "    plt.show()"
      ]
    },
    {
      "cell_type": "code",
      "source": [
        "import joblib\n",
        "torch.save(model.state_dict(), 'sae_model.pt')\n",
        "#  4b) PCA transformer\n",
        "joblib.dump(pca, 'pca_transform.pkl')\n",
        "#  4c) keep_idx array\n",
        "np.save('keep_idx.npy', model.keep_idx.cpu().numpy())\n",
        "\n",
        "print(\"Saved: sae_model.pt, pca_transform.pkl, keep_idx.npy\")"
      ],
      "metadata": {
        "colab": {
          "base_uri": "https://localhost:8080/"
        },
        "id": "et9HkiqN2czo",
        "outputId": "8b6a5550-60bf-4a68-e4fd-ae32b0f7066e"
      },
      "execution_count": 6,
      "outputs": [
        {
          "output_type": "stream",
          "name": "stdout",
          "text": [
            "Saved: sae_model.pt, pca_transform.pkl, keep_idx.npy\n"
          ]
        }
      ]
    },
    {
      "cell_type": "code",
      "source": [
        "import joblib\n",
        "import numpy as np\n",
        "\n",
        "\n",
        "# 2) Load new raw B data and PCA‑transform\n",
        "data_B_new = torch.load('llama1b_acts.pt')['llama1b']\n",
        "B_list_new = [x.squeeze(0).mean(dim=0).cpu().numpy() for x in data_B_new]\n",
        "B_new_raw  = np.stack(B_list_new)            # (n_samples, raw_dim=16384)\n",
        "B_pca_new  = pca_B.transform(B_new_raw)      # (n_samples, 32)\n",
        "\n",
        "# 3) Reload model\n",
        "device = 'cuda' if torch.cuda.is_available() else 'cpu'\n",
        "model = SAEApproximatorPyTorch(n_in=32, n_out=32, hidden_dim=64, device=device)\n",
        "model.load_state_dict(torch.load('sae_model.pt', map_location=device))\n",
        "model.eval()\n",
        "\n",
        "# 4) **Restore** keep_idx onto the model\n",
        "keep_idx = np.load('keep_idx.npy')                # shape (<=32,)\n",
        "model.keep_idx = torch.from_numpy(keep_idx).long().to(device)\n",
        "\n",
        "# 5) Now predict\n",
        "A_pca_pred = model.predict(B_pca_new)             # shape (n_samples, 32)\n",
        "\n",
        "# 6) Invert PCA for A back to raw space\n",
        "A_raw_pred = pca_A.inverse_transform(A_pca_pred)  # shape (n_samples, 16384)\n",
        "\n",
        "print(\"Predicted A in PCA space:\", A_pca_pred.shape)\n",
        "print(\"Predicted A in raw space:\", A_raw_pred.shape)\n"
      ],
      "metadata": {
        "colab": {
          "base_uri": "https://localhost:8080/"
        },
        "id": "33weg8AE6382",
        "outputId": "81a2f213-92be-4c24-95da-e6602c609a41"
      },
      "execution_count": 12,
      "outputs": [
        {
          "output_type": "stream",
          "name": "stdout",
          "text": [
            "Predicted A in PCA space: (155, 32)\n",
            "Predicted A in raw space: (155, 16384)\n"
          ]
        }
      ]
    },
    {
      "cell_type": "code",
      "source": [
        "A_raw_pred"
      ],
      "metadata": {
        "colab": {
          "base_uri": "https://localhost:8080/"
        },
        "id": "2xksHqu49Ayq",
        "outputId": "99332698-d75d-4ae4-c939-e32644976572"
      },
      "execution_count": 13,
      "outputs": [
        {
          "output_type": "execute_result",
          "data": {
            "text/plain": [
              "array([[ 2.6091188e-01,  1.4251812e-02,  5.1000669e-08, ...,\n",
              "         2.2996260e-01,  1.9202042e-02,  0.0000000e+00],\n",
              "       [ 2.2126989e-01,  2.0547230e-02, -4.1891292e-07, ...,\n",
              "         1.8473901e-01,  3.1083517e-02,  0.0000000e+00],\n",
              "       [ 1.8658578e-01,  2.5990084e-02, -7.5957200e-07, ...,\n",
              "         1.4280945e-01,  3.2341931e-02,  0.0000000e+00],\n",
              "       ...,\n",
              "       [-1.3492608e-01,  7.5424150e-02, -3.8732605e-06, ...,\n",
              "        -2.2858180e-01,  9.4646007e-02,  0.0000000e+00],\n",
              "       [-7.3585093e-02,  6.7098267e-02, -3.2346350e-06, ...,\n",
              "        -1.7201941e-01,  8.4398516e-02,  0.0000000e+00],\n",
              "       [ 2.2677235e-01,  1.6420534e-02, -1.7335392e-07, ...,\n",
              "         1.7248389e-01,  2.5624707e-02,  0.0000000e+00]], dtype=float32)"
            ]
          },
          "metadata": {},
          "execution_count": 13
        }
      ]
    }
  ]
}